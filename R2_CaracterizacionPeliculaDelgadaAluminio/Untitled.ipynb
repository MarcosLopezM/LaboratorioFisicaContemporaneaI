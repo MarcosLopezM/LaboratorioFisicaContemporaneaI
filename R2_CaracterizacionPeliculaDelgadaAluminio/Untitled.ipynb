{
 "cells": [
  {
   "cell_type": "code",
   "execution_count": 8,
   "id": "cbabbc5c-996f-4f6c-8e81-404b40d83c21",
   "metadata": {},
   "outputs": [
    {
     "ename": "ValueError",
     "evalue": "all the input array dimensions except for the concatenation axis must match exactly, but along dimension 0, the array at index 0 has size 878 and the array at index 2 has size 877",
     "output_type": "error",
     "traceback": [
      "\u001b[0;31m---------------------------------------------------------------------------\u001b[0m",
      "\u001b[0;31mValueError\u001b[0m                                Traceback (most recent call last)",
      "Cell \u001b[0;32mIn[8], line 25\u001b[0m\n\u001b[1;32m     22\u001b[0m         exit()\n\u001b[1;32m     24\u001b[0m \u001b[38;5;66;03m# Combinar las imágenes horizontalmente\u001b[39;00m\n\u001b[0;32m---> 25\u001b[0m combined_image \u001b[38;5;241m=\u001b[39m \u001b[43mnp\u001b[49m\u001b[38;5;241;43m.\u001b[39;49m\u001b[43mhstack\u001b[49m\u001b[43m(\u001b[49m\u001b[43mrotated_images\u001b[49m\u001b[43m)\u001b[49m\n\u001b[1;32m     27\u001b[0m \u001b[38;5;66;03m# Guardar la imagen resultante\u001b[39;00m\n\u001b[1;32m     28\u001b[0m output_path \u001b[38;5;241m=\u001b[39m \u001b[38;5;124m'\u001b[39m\u001b[38;5;124mcombined_rayado.jpg\u001b[39m\u001b[38;5;124m'\u001b[39m\n",
      "File \u001b[0;32m~/.pyenv/versions/2025-2/lib/python3.13/site-packages/numpy/_core/shape_base.py:358\u001b[0m, in \u001b[0;36mhstack\u001b[0;34m(tup, dtype, casting)\u001b[0m\n\u001b[1;32m    356\u001b[0m     \u001b[38;5;28;01mreturn\u001b[39;00m _nx\u001b[38;5;241m.\u001b[39mconcatenate(arrs, \u001b[38;5;241m0\u001b[39m, dtype\u001b[38;5;241m=\u001b[39mdtype, casting\u001b[38;5;241m=\u001b[39mcasting)\n\u001b[1;32m    357\u001b[0m \u001b[38;5;28;01melse\u001b[39;00m:\n\u001b[0;32m--> 358\u001b[0m     \u001b[38;5;28;01mreturn\u001b[39;00m \u001b[43m_nx\u001b[49m\u001b[38;5;241;43m.\u001b[39;49m\u001b[43mconcatenate\u001b[49m\u001b[43m(\u001b[49m\u001b[43marrs\u001b[49m\u001b[43m,\u001b[49m\u001b[43m \u001b[49m\u001b[38;5;241;43m1\u001b[39;49m\u001b[43m,\u001b[49m\u001b[43m \u001b[49m\u001b[43mdtype\u001b[49m\u001b[38;5;241;43m=\u001b[39;49m\u001b[43mdtype\u001b[49m\u001b[43m,\u001b[49m\u001b[43m \u001b[49m\u001b[43mcasting\u001b[49m\u001b[38;5;241;43m=\u001b[39;49m\u001b[43mcasting\u001b[49m\u001b[43m)\u001b[49m\n",
      "\u001b[0;31mValueError\u001b[0m: all the input array dimensions except for the concatenation axis must match exactly, but along dimension 0, the array at index 0 has size 878 and the array at index 2 has size 877"
     ]
    }
   ],
   "source": [
    "import cv2\n",
    "import numpy as np\n",
    "\n",
    "# Rutas de las imágenes rotadas y con la altura correcta\n",
    "rotated_image_paths = [\n",
    "    \"scratch-1_2.jpg\", \n",
    "    \"scratch-3_4.jpg\", \n",
    "    \"./img_rotadas/scratch-rot_5.jpg\", \n",
    "    \"./img_rotadas/scratch-rot_6.jpg\",\n",
    "    \"./img_rotadas/scratch-rot_7.jpg\", \n",
    "    \"./img_rotadas/scratch-rot_8.jpg\", \n",
    "    \"./img_rotadas/scratch-rot_9.jpg\"\n",
    "]\n",
    "\n",
    "# Cargar las imágenes\n",
    "rotated_images = [cv2.imread(path) for path in rotated_image_paths]\n",
    "\n",
    "# Verificar si las imágenes se cargaron correctamente\n",
    "for i, img in enumerate(rotated_images):\n",
    "    if img is None:\n",
    "        print(f\"Error: No se pudo cargar la imagen {rotated_image_paths[i]}\")\n",
    "        exit()\n",
    "\n",
    "# Combinar las imágenes horizontalmente\n",
    "combined_image = np.hstack(rotated_images)\n",
    "\n",
    "# Guardar la imagen resultante\n",
    "output_path = 'combined_rayado.jpg'\n",
    "cv2.imwrite(output_path, combined_image)\n",
    "\n",
    "print(f\"Imagen combinada guardada como {output_path}\")"
   ]
  },
  {
   "cell_type": "code",
   "execution_count": null,
   "id": "d9f653e9-e8d9-4948-9cc1-104453859409",
   "metadata": {},
   "outputs": [],
   "source": []
  }
 ],
 "metadata": {
  "kernelspec": {
   "display_name": "Python 3 (ipykernel)",
   "language": "python",
   "name": "python3"
  },
  "language_info": {
   "codemirror_mode": {
    "name": "ipython",
    "version": 3
   },
   "file_extension": ".py",
   "mimetype": "text/x-python",
   "name": "python",
   "nbconvert_exporter": "python",
   "pygments_lexer": "ipython3",
   "version": "3.13.0"
  }
 },
 "nbformat": 4,
 "nbformat_minor": 5
}
